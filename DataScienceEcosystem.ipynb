{
 "cells": [
  {
   "cell_type": "markdown",
   "id": "d65b1f6a",
   "metadata": {},
   "source": [
    "# Data Science Tools and Ecosystem"
   ]
  },
  {
   "cell_type": "markdown",
   "id": "4cb55f26",
   "metadata": {},
   "source": [
    "In this notebook, Data Science Tools, libraries and Ecosystem are summarized."
   ]
  },
  {
   "cell_type": "markdown",
   "id": "c7ed949c",
   "metadata": {},
   "source": [
    "Data Science Tools**Objectives**\n",
    "- Overview of Data Science Tools\n",
    "- List popular languages for Data Science\n",
    "- Get to know Libraries, APIs, Datasets, and Models for Data Science\n",
    "- How to use Jupyter Notebook and Jupyter Lab for Data Science\n",
    "- Getting started with Git and GitHub\n",
    "- How to use R and RStudio for Data Science"
   ]
  },
  {
   "cell_type": "markdown",
   "id": "e174d49a",
   "metadata": {},
   "source": [
    "**Some of the popular languages that Data Scientists use are:**\n",
    "1. Python\n",
    "2. R\n",
    "3. Julia\n",
    "4. Scala\n",
    "5. SQL\n"
   ]
  },
  {
   "cell_type": "markdown",
   "id": "551710c9",
   "metadata": {},
   "source": [
    "**Some of the commonly used libraries by Data Scientists include:**\n",
    "1. Pandas\n",
    "2. NumPy\n",
    "3. Matplotlib\n",
    "4. Scikit-learn\n",
    "5. Pytorch"
   ]
  },
  {
   "cell_type": "markdown",
   "id": "3caaede9",
   "metadata": {},
   "source": [
    "| **Data Scienc Tools** |\n",
    "|:-------------:|\n",
    "|   RStudio   |\n",
    "|   Jupyter   |\n",
    "|   Spyder    |"
   ]
  },
  {
   "cell_type": "markdown",
   "id": "a8b2103e",
   "metadata": {},
   "source": [
    "### Below are a few examples of evaluating arithmetic expressions in Python"
   ]
  },
  {
   "cell_type": "code",
   "execution_count": 2,
   "id": "d7840fdc",
   "metadata": {},
   "outputs": [
    {
     "data": {
      "text/plain": [
       "17"
      ]
     },
     "execution_count": 2,
     "metadata": {},
     "output_type": "execute_result"
    }
   ],
   "source": [
    "# This a simple arithmetic expression to mutiply then add integers\n",
    "(3*4)+5"
   ]
  },
  {
   "cell_type": "code",
   "execution_count": 5,
   "id": "cedb3581",
   "metadata": {},
   "outputs": [
    {
     "data": {
      "text/plain": [
       "3.3333333333333335"
      ]
     },
     "execution_count": 5,
     "metadata": {},
     "output_type": "execute_result"
    }
   ],
   "source": [
    "# This will convert 200 minutes to hours by diving by 60\n",
    "\n",
    "#this is the function that performs the conversion\n",
    "def convert_to_hours(minutes):\n",
    "    '''Takes minutes as input and returns hours in floating point'''\n",
    "    return float(minutes)/60\n",
    "\n",
    "convert_to_hours(200)\n",
    "    "
   ]
  },
  {
   "cell_type": "markdown",
   "id": "c7e67744",
   "metadata": {},
   "source": [
    "# Author\n",
    "- - - -\n",
    "Simon"
   ]
  }
 ],
 "metadata": {
  "kernelspec": {
   "display_name": "Python 3 (ipykernel)",
   "language": "python",
   "name": "python3"
  },
  "language_info": {
   "codemirror_mode": {
    "name": "ipython",
    "version": 3
   },
   "file_extension": ".py",
   "mimetype": "text/x-python",
   "name": "python",
   "nbconvert_exporter": "python",
   "pygments_lexer": "ipython3",
   "version": "3.10.9"
  }
 },
 "nbformat": 4,
 "nbformat_minor": 5
}
